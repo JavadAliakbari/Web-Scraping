{
 "cells": [
  {
   "cell_type": "code",
   "execution_count": 1,
   "metadata": {},
   "outputs": [],
   "source": [
    "import numpy as np\n",
    "import pandas as pd\n",
    "import mysql.connector\n",
    "import re"
   ]
  },
  {
   "cell_type": "code",
   "execution_count": 2,
   "metadata": {},
   "outputs": [],
   "source": [
    "db = mysql.connector.connect(\n",
    "    host = \"localhost\",\n",
    "    user = \"root\",\n",
    "    password = \"J@vad5656\",\n",
    ")"
   ]
  },
  {
   "cell_type": "code",
   "execution_count": 3,
   "metadata": {},
   "outputs": [],
   "source": [
    "mycurser = db.cursor()"
   ]
  },
  {
   "cell_type": "code",
   "execution_count": 4,
   "metadata": {},
   "outputs": [],
   "source": [
    "mycurser.execute(\"USE sql_invoicing;\")\n",
    "mycurser.execute(\"SELECT * FROM clients\")"
   ]
  },
  {
   "cell_type": "code",
   "execution_count": 5,
   "metadata": {},
   "outputs": [
    {
     "name": "stdout",
     "output_type": "stream",
     "text": [
      "   client_id         name                   address           city state  \\\n",
      "0          1        Vinte          3 Nevada Parkway       Syracuse    NY   \n",
      "1          2      Myworks    34267 Glendale Parkway     Huntington    WV   \n",
      "2          3        Yadel       096 Pawling Parkway  San Francisco    CA   \n",
      "3          4       Kwideo  81674 Westerfield Circle           Waco    TX   \n",
      "4          5  Topiclounge          0863 Farmco Road       Portland    OR   \n",
      "\n",
      "          phone  \n",
      "0  315-252-7305  \n",
      "1  304-659-1170  \n",
      "2  415-144-6037  \n",
      "3  254-750-0784  \n",
      "4  971-888-9129  \n"
     ]
    }
   ],
   "source": [
    "y = []\n",
    "for x in mycurser:\n",
    "    y.append(x)\n",
    "\n",
    "pf = pd.DataFrame(y,columns= mycurser.column_names)\n",
    "print(pf.head(10))"
   ]
  },
  {
   "cell_type": "code",
   "execution_count": 6,
   "metadata": {},
   "outputs": [
    {
     "name": "stdout",
     "output_type": "stream",
     "text": [
      "   invoice_id       number         name invoice_total payment_total  \\\n",
      "0           2  03-898-6735  Topiclounge        175.32          8.18   \n",
      "1           6  75-587-6626        Vinte        157.78         74.55   \n",
      "2          11  20-848-0181        Yadel        126.15          0.03   \n",
      "3          13  41-666-1035  Topiclounge        135.01         87.44   \n",
      "4          15  55-105-9605        Yadel        167.29         80.31   \n",
      "\n",
      "     due_date payment_date  \n",
      "0  2019-07-01   2019-02-12  \n",
      "1  2019-02-18   2019-01-03  \n",
      "2  2019-01-27   2019-01-11  \n",
      "3  2019-07-15   2019-01-26  \n",
      "4  2019-12-15   2019-01-15  \n"
     ]
    }
   ],
   "source": [
    "mycurser.execute(\"\"\"SELECT \n",
    "    i.invoice_id,\n",
    "    i.number,\n",
    "    c.name,\n",
    "    i.invoice_total,\n",
    "    i.payment_total,\n",
    "    i.due_date,\n",
    "    i.payment_date\n",
    "FROM invoices i\n",
    "JOIN clients c\n",
    "USING (client_id)\n",
    "WHERE i.payment_date IS NOT NULL\n",
    "ORDER BY invoice_id;\"\"\")\n",
    "\n",
    "y = []\n",
    "for x in mycurser:\n",
    "    y.append(x)\n",
    "\n",
    "table_df = pd.DataFrame(y, columns = mycurser.column_names)\n",
    "print(table_df.head())"
   ]
  },
  {
   "cell_type": "code",
   "execution_count": 7,
   "metadata": {},
   "outputs": [],
   "source": [
    "SQL_queries = [\"DROP DATABASE IF EXISTS `IMDB_Movies`;\"\n",
    "        , \"CREATE DATABASE `IMDB_Movies`;\"\n",
    "        , \"USE `IMDB_Movies`;\"\n",
    "        , \"\"\"CREATE TABLE Top250_Movies(\n",
    "        movie_id int(4) NOT NULL AUTO_INCREMENT\n",
    "        , Movie_Name varchar(100) NOT NULL\n",
    "        , Year int(4) NOT NULL\n",
    "        , IMDB_Rating float(4) NOT NULL\n",
    "        , PRIMARY KEY (movie_id)\n",
    "        ) ENGINE=InnoDB AUTO_INCREMENT=11 DEFAULT CHARSET=utf8mb4 COLLATE=utf8mb4_0900_ai_ci;\"\"\"\n",
    "        , \"ALTER TABLE Top250_Movies AUTO_INCREMENT = 1;\"]\n",
    "\n",
    "for query in SQL_queries:\n",
    "    mycurser.execute(query)\n",
    "    "
   ]
  },
  {
   "cell_type": "code",
   "execution_count": 8,
   "metadata": {},
   "outputs": [],
   "source": [
    "def load_csv(addr):\n",
    "    return pd.read_csv(addr)"
   ]
  },
  {
   "cell_type": "code",
   "execution_count": 9,
   "metadata": {},
   "outputs": [
    {
     "data": {
      "text/html": [
       "<div>\n",
       "<style scoped>\n",
       "    .dataframe tbody tr th:only-of-type {\n",
       "        vertical-align: middle;\n",
       "    }\n",
       "\n",
       "    .dataframe tbody tr th {\n",
       "        vertical-align: top;\n",
       "    }\n",
       "\n",
       "    .dataframe thead th {\n",
       "        text-align: right;\n",
       "    }\n",
       "</style>\n",
       "<table border=\"1\" class=\"dataframe\">\n",
       "  <thead>\n",
       "    <tr style=\"text-align: right;\">\n",
       "      <th></th>\n",
       "      <th>Title</th>\n",
       "      <th>Year</th>\n",
       "      <th>Type</th>\n",
       "      <th>Time</th>\n",
       "      <th>Genere</th>\n",
       "      <th>plot</th>\n",
       "      <th>Rating</th>\n",
       "      <th>Voting</th>\n",
       "      <th>Directors</th>\n",
       "      <th>Writers</th>\n",
       "      <th>Stars</th>\n",
       "      <th>User reviews</th>\n",
       "      <th>Critic reviews</th>\n",
       "      <th>Metascore</th>\n",
       "      <th>URL</th>\n",
       "      <th>minutes</th>\n",
       "    </tr>\n",
       "  </thead>\n",
       "  <tbody>\n",
       "    <tr>\n",
       "      <th>247</th>\n",
       "      <td>The Passion of Joan of Arc</td>\n",
       "      <td>1928.0</td>\n",
       "      <td>A</td>\n",
       "      <td>1h 50min</td>\n",
       "      <td>Biography</td>\n",
       "      <td>In 1431, Jeanne d'Arc is placed on trial on ch...</td>\n",
       "      <td>8.1</td>\n",
       "      <td>50000.0</td>\n",
       "      <td>['Carl Theodor Dreyer']</td>\n",
       "      <td>['Joseph Delteil', 'Carl Theodor Dreyer']</td>\n",
       "      <td>['Maria Falconetti', 'Eugene Silvain', 'André ...</td>\n",
       "      <td>210.000000</td>\n",
       "      <td>141.000000</td>\n",
       "      <td>82.22549</td>\n",
       "      <td>https://www.imdb.com//title/tt0019254/</td>\n",
       "      <td>110.0</td>\n",
       "    </tr>\n",
       "    <tr>\n",
       "      <th>248</th>\n",
       "      <td>Sunrise: A Song of Two Humans</td>\n",
       "      <td>1927.0</td>\n",
       "      <td>A</td>\n",
       "      <td>1h 34min</td>\n",
       "      <td>Drama</td>\n",
       "      <td>A sophisticated urban woman seduces a farmer i...</td>\n",
       "      <td>8.1</td>\n",
       "      <td>48000.0</td>\n",
       "      <td>['F.W. Murnau']</td>\n",
       "      <td>['Carl Mayer', 'Hermann Sudermann', 'Katherine...</td>\n",
       "      <td>[\"George O'Brien\", 'Janet Gaynor', 'Margaret L...</td>\n",
       "      <td>1222.021368</td>\n",
       "      <td>240.029915</td>\n",
       "      <td>82.22549</td>\n",
       "      <td>https://www.imdb.com//title/tt0018455/</td>\n",
       "      <td>94.0</td>\n",
       "    </tr>\n",
       "    <tr>\n",
       "      <th>249</th>\n",
       "      <td>The General</td>\n",
       "      <td>1926.0</td>\n",
       "      <td>U</td>\n",
       "      <td>1h 7min</td>\n",
       "      <td>Action</td>\n",
       "      <td>When Union spies steal an engineer's beloved l...</td>\n",
       "      <td>8.1</td>\n",
       "      <td>85000.0</td>\n",
       "      <td>['Clyde Bruckman', 'Buster Keaton']</td>\n",
       "      <td>['Buster Keaton', 'Clyde Bruckman', 'Al Boasbe...</td>\n",
       "      <td>['Buster Keaton', 'Marion Mack', 'Glen Cavender']</td>\n",
       "      <td>311.000000</td>\n",
       "      <td>119.000000</td>\n",
       "      <td>82.22549</td>\n",
       "      <td>https://www.imdb.com//title/tt0017925/</td>\n",
       "      <td>67.0</td>\n",
       "    </tr>\n",
       "  </tbody>\n",
       "</table>\n",
       "</div>"
      ],
      "text/plain": [
       "                             Title    Year Type      Time     Genere  \\\n",
       "247     The Passion of Joan of Arc  1928.0    A  1h 50min  Biography   \n",
       "248  Sunrise: A Song of Two Humans  1927.0    A  1h 34min      Drama   \n",
       "249                    The General  1926.0    U   1h 7min     Action   \n",
       "\n",
       "                                                  plot  Rating   Voting  \\\n",
       "247  In 1431, Jeanne d'Arc is placed on trial on ch...     8.1  50000.0   \n",
       "248  A sophisticated urban woman seduces a farmer i...     8.1  48000.0   \n",
       "249  When Union spies steal an engineer's beloved l...     8.1  85000.0   \n",
       "\n",
       "                               Directors  \\\n",
       "247              ['Carl Theodor Dreyer']   \n",
       "248                      ['F.W. Murnau']   \n",
       "249  ['Clyde Bruckman', 'Buster Keaton']   \n",
       "\n",
       "                                               Writers  \\\n",
       "247          ['Joseph Delteil', 'Carl Theodor Dreyer']   \n",
       "248  ['Carl Mayer', 'Hermann Sudermann', 'Katherine...   \n",
       "249  ['Buster Keaton', 'Clyde Bruckman', 'Al Boasbe...   \n",
       "\n",
       "                                                 Stars  User reviews  \\\n",
       "247  ['Maria Falconetti', 'Eugene Silvain', 'André ...    210.000000   \n",
       "248  [\"George O'Brien\", 'Janet Gaynor', 'Margaret L...   1222.021368   \n",
       "249  ['Buster Keaton', 'Marion Mack', 'Glen Cavender']    311.000000   \n",
       "\n",
       "     Critic reviews  Metascore                                     URL  \\\n",
       "247      141.000000   82.22549  https://www.imdb.com//title/tt0019254/   \n",
       "248      240.029915   82.22549  https://www.imdb.com//title/tt0018455/   \n",
       "249      119.000000   82.22549  https://www.imdb.com//title/tt0017925/   \n",
       "\n",
       "     minutes  \n",
       "247    110.0  \n",
       "248     94.0  \n",
       "249     67.0  "
      ]
     },
     "execution_count": 9,
     "metadata": {},
     "output_type": "execute_result"
    }
   ],
   "source": [
    "addr = \"C:\\\\Users\\\\moham\\\\3D Objects\\My Files\\\\Code\\Python\\\\Test Codes\\\\Web Scraping\\\\IMDB top 1000\\\\Top250_Movies_Info_cleaned.csv\"\n",
    "top250_df = load_csv(addr)\n",
    "top250_df.tail(3)"
   ]
  },
  {
   "cell_type": "code",
   "execution_count": 10,
   "metadata": {},
   "outputs": [],
   "source": [
    "for ind, movie_Info in top250_df.iterrows():\n",
    "    #print(movie_Info)\n",
    "    title = movie_Info['Title']\n",
    "    year = int(movie_Info['Year'])\n",
    "    rating = movie_Info['Rating']\n",
    "    title = title.replace('\\'', '')\n",
    "    query = f\"INSERT INTO Top250_Movies (Movie_Name, Year, IMDB_Rating) VALUES ('{title}', '{year}', '{rating}')\"\n",
    "    #print(query)\n",
    "    mycurser.execute(query)\n",
    "\n",
    "# Make sure data is committed to the database\n",
    "db.commit()"
   ]
  },
  {
   "cell_type": "code",
   "execution_count": 12,
   "metadata": {},
   "outputs": [
    {
     "name": "stdout",
     "output_type": "stream",
     "text": [
      "(1, 'The Shawshank Redemption', 1994, 9.3)\n",
      "(2, 'The Godfather', 1972, 9.2)\n",
      "(3, 'The Dark Knight', 2008, 9.0)\n",
      "(4, 'The Godfather: Part II', 1974, 9.0)\n",
      "(5, '12 Angry Men', 1957, 9.0)\n",
      "   movie_id                Movie_Name  Year  IMDB_Rating\n",
      "0         1  The Shawshank Redemption  1994          9.3\n",
      "1         2             The Godfather  1972          9.2\n",
      "2         3           The Dark Knight  2008          9.0\n"
     ]
    }
   ],
   "source": [
    "mycurser.execute(\"\"\"SELECT *\n",
    "FROM Top250_movies\"\"\")\n",
    "\n",
    "y = []\n",
    "for ind, x in enumerate(mycurser):\n",
    "    if ind < 5:\n",
    "        print(x)\n",
    "    \n",
    "    x_dict = {'movie_id' : x[0], 'Movie_Name': x[1], 'Year': x[2], 'IMDB_Rating' :x[3]}\n",
    "    y.append(x_dict)\n",
    "\n",
    "table_df = pd.DataFrame(y)\n",
    "print(table_df.head(3))"
   ]
  },
  {
   "cell_type": "code",
   "execution_count": null,
   "metadata": {},
   "outputs": [],
   "source": []
  },
  {
   "cell_type": "code",
   "execution_count": null,
   "metadata": {},
   "outputs": [],
   "source": []
  }
 ],
 "metadata": {
  "kernelspec": {
   "display_name": "Python 3",
   "language": "python",
   "name": "python3"
  },
  "language_info": {
   "codemirror_mode": {
    "name": "ipython",
    "version": 3
   },
   "file_extension": ".py",
   "mimetype": "text/x-python",
   "name": "python",
   "nbconvert_exporter": "python",
   "pygments_lexer": "ipython3",
   "version": "3.8.5"
  }
 },
 "nbformat": 4,
 "nbformat_minor": 4
}
